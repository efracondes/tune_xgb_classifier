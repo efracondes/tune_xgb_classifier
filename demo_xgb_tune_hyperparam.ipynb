{
 "cells": [
  {
   "cell_type": "markdown",
   "metadata": {},
   "source": [
    "# Tune Xgb Hyper-Params\n",
    "\n",
    "In this notebook we show how to use the _tune_clf.py_ module to tune the hyperparameters of a xgb-classifier. \n",
    "\n",
    "Let's run the boilerplate code"
   ]
  },
  {
   "cell_type": "code",
   "execution_count": 1,
   "metadata": {},
   "outputs": [],
   "source": [
    "import pandas as pd\n",
    "from sklearn.datasets import load_breast_cancer\n",
    "from sklearn.model_selection import train_test_split\n",
    "from sklearn.metrics import accuracy_score, precision_score, recall_score, f1_score\n",
    "import warnings\n",
    "from tune_clf import fine_tune_clf\n",
    "from xgboost import XGBClassifier\n",
    "warnings.filterwarnings('ignore')"
   ]
  },
  {
   "cell_type": "markdown",
   "metadata": {},
   "source": [
    "Load a dataset suitable for binary classification"
   ]
  },
  {
   "cell_type": "code",
   "execution_count": 2,
   "metadata": {},
   "outputs": [],
   "source": [
    "raw_data = load_breast_cancer()\n",
    "data = pd.DataFrame(data=raw_data.data, columns=raw_data.feature_names)\n",
    "data['target'] = raw_data.target"
   ]
  },
  {
   "cell_type": "markdown",
   "metadata": {},
   "source": [
    "Define the hyperparameter search space"
   ]
  },
  {
   "cell_type": "code",
   "execution_count": 3,
   "metadata": {},
   "outputs": [],
   "source": [
    "param_space = {\n",
    "    'objective': ['binary:logistic'],\n",
    "    'eval_metric': ['logloss'],\n",
    "    'n_estimators': [100, 200, 500],\n",
    "    'learning_rate': [0.01, 0.1, 0.2],\n",
    "    'max_depth': [3, 6, 9],\n",
    "    'min_child_weight': [1, 5, 10],\n",
    "    'subsample': [0.7, 0.8, 1.0],\n",
    "    'colsample_bytree': [0.7, 0.9, 1.0],\n",
    "    'gamma': [0, 0.1, 0.5],\n",
    "    'lambda': [1, 2, 3],\n",
    "    'alpha': [0, 0.5, 1],\n",
    "    'seed': [1234],\n",
    "    'scale_pos_weight': [None, 1, 3, 5]  # Use if dataset is imbalanced\n",
    "}"
   ]
  },
  {
   "cell_type": "markdown",
   "metadata": {},
   "source": [
    "Find the best model"
   ]
  },
  {
   "cell_type": "code",
   "execution_count": 4,
   "metadata": {},
   "outputs": [
    {
     "name": "stdout",
     "output_type": "stream",
     "text": [
      "Performances improved! Iter 1/10, best accuracy=0.953\n",
      "Performances improved! Iter 2/10, best accuracy=0.956\n",
      "Performances improved! Iter 4/10, best accuracy=0.968\n",
      "--------------------------------\n",
      "FINISHED TRAINING!!!!\n",
      "Best params performance\n",
      "fit_time = 0.192\n",
      "score_time = 0.005\n",
      "test_f1 = 0.975\n",
      "test_accuracy = 0.968\n",
      "test_balanced_accuracy = 0.963\n"
     ]
    }
   ],
   "source": [
    "best_params, best_score, best_results = fine_tune_clf(\n",
    "    model_constructor = XGBClassifier, \n",
    "    hyperparams_space = param_space,\n",
    "    track_metric = 'accuracy',\n",
    "    metrics = ['f1', 'accuracy', 'balanced_accuracy'],\n",
    "    data = data,\n",
    "    y_col = 'target',\n",
    "    random_search = 10 # Random search of n combs in the hyperparams space, set to None for a complete search\n",
    ")"
   ]
  },
  {
   "cell_type": "markdown",
   "metadata": {},
   "source": [
    "Test best model"
   ]
  },
  {
   "cell_type": "code",
   "execution_count": 5,
   "metadata": {},
   "outputs": [
    {
     "name": "stdout",
     "output_type": "stream",
     "text": [
      "Accuracy: 0.9649122807017544\n"
     ]
    }
   ],
   "source": [
    "# Create data for demo\n",
    "d_train, d_test = train_test_split(data, test_size=0.2, random_state=42)\n",
    "x_train, y_train = d_train.drop('target', axis=1), d_train['target']\n",
    "x_test, y_test = d_test.drop('target', axis=1), d_test['target']\n",
    "# Train best model\n",
    "best_model = XGBClassifier(**best_params)\n",
    "best_model.fit(x_train, y_train)\n",
    "y_pred =best_model.predict(x_test)\n",
    "accuracy = accuracy_score(y_test, y_pred)\n",
    "print(f\"Accuracy: {accuracy}\")"
   ]
  }
 ],
 "metadata": {
  "kernelspec": {
   "display_name": "data_science",
   "language": "python",
   "name": "python3"
  },
  "language_info": {
   "codemirror_mode": {
    "name": "ipython",
    "version": 3
   },
   "file_extension": ".py",
   "mimetype": "text/x-python",
   "name": "python",
   "nbconvert_exporter": "python",
   "pygments_lexer": "ipython3",
   "version": "3.8.20"
  }
 },
 "nbformat": 4,
 "nbformat_minor": 2
}
